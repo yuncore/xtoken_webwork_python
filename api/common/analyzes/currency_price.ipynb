{
 "cells": [
  {
   "cell_type": "code",
   "execution_count": 38,
   "metadata": {
    "collapsed": true
   },
   "outputs": [],
   "source": [
    "from api.db import stat_db, crawl_db, CrawlCollections, StatCollections, relation_db, RelationCollections, DESCENDING, ASCENDING\n",
    "import json\n",
    "import time\n",
    "import math\n",
    "import re\n",
    "import pandas as pd\n",
    "import numpy as np\n",
    "from datetime import datetime"
   ]
  },
  {
   "cell_type": "code",
   "execution_count": 32,
   "metadata": {},
   "outputs": [],
   "source": [
    "bitcoin = crawl_db[CrawlCollections.COINMARKET_HISTORY_PRICE].find_one({'_id': 'bitcoin-cash'})"
   ]
  },
  {
   "cell_type": "code",
   "execution_count": 19,
   "metadata": {},
   "outputs": [],
   "source": [
    "data = json.loads(bitcoin['data'])"
   ]
  },
  {
   "cell_type": "code",
   "execution_count": 20,
   "metadata": {},
   "outputs": [],
   "source": [
    "market_cap = data['market_cap_by_available_supply']"
   ]
  },
  {
   "cell_type": "code",
   "execution_count": 29,
   "metadata": {},
   "outputs": [],
   "source": [
    "for item in market_cap:\n",
    "    original_date = datetime.fromtimestamp(item[0] / 1000)\n",
    "    str_time = original_date.strftime('%Y-%m-%d')\n",
    "    format_date = datetime.strptime(str_time, '%Y-%m-%d').timestamp()\n",
    "    price_data = stat_db['history_currency_price'].find_one({'_id': format_date})\n",
    "    if price_data is not None:\n",
    "        stat_db['history_currency_price'].update_one({'_id': price_data['_id']}, {'$set': {'market_cap.{0}'.format('bitcoin-cash'): item[1]}})\n",
    "    else:\n",
    "        stat_db['history_currency_price'].insert_one({'_id': format_date, 'market_cap': {'{0}'.format('bitcoin-cash'): item[1]}})"
   ]
  },
  {
   "cell_type": "heading",
   "metadata": {},
   "level": 1,
   "source": [
    "将排名前300的币生成excel"
   ]
  },
  {
   "cell_type": "code",
   "execution_count": 3,
   "metadata": {},
   "outputs": [],
   "source": [
    "\n",
    "coinmarket_coins_cursor = crawl_db[CrawlCollections.COINMARKET_CURRENCIES].find()\n",
    "df = pd.DataFrame([( coins['data']['sort'], coins['_id'], coins['data']['name'], coins['data']['symbol'], coins['data']['url']) for coins in coinmarket_coins_cursor], columns=['sort', 'id', 'name', 'symbol', 'url'])                          \n",
    "df.url = 'https://coinmarketcap.com' + df.url\n",
    "writer = pd.ExcelWriter('E:/coinmarket_currency.xlsx')\n",
    "df = df.sort_values(by='sort')\n",
    "df.to_excel(writer, sheet_name='Sheet1', index=False)\n",
    "writer.save()\n"
   ]
  },
  {
   "cell_type": "code",
   "execution_count": null,
   "metadata": {},
   "outputs": [],
   "source": [
    "# 最近一次分析的日期有多少个货币\n",
    "def how_many_coins_in_latest_stat_date():\n",
    "    currency_history_cursor = stat_db[StatCollections.HISTORY_CURRENCY_PRICE_STAT].find().sort([('_id', DESCENDING)]).limit(1)\n",
    "    latest_time_stat = currency_history_cursor[1]\n",
    "    price_usd = latest_time_stat['price_usd']\n",
    "    coins = list(price_usd.keys())\n",
    "    print(len(coins))"
   ]
  },
  {
   "cell_type": "markdown",
   "metadata": {},
   "source": [
    "## 分析某个货币的排名随时间变化数据\n"
   ]
  },
  {
   "cell_type": "code",
   "execution_count": 59,
   "metadata": {},
   "outputs": [],
   "source": [
    "try:\n",
    "    d = stat_db['history_currency_rank'].find_one({'currency_id': 'bitcoin'})\n",
    "    latest = max(d['rank'], key=lambda x: x[0])\n",
    "except TypeError as e:\n",
    "    latest = 0\n",
    "history_data = stat_db[StatCollections.HISTORY_CURRENCY_PRICE_STAT].find({'_id': {'$gt': latest}}).sort([('_id', ASCENDING)])\n",
    "count = len(list(history_data))\n",
    "for index,data in enumerate(history_data):\n",
    "    if index / 100 == 0:\n",
    "        print(str(index) + '/' + str(count))\n",
    "    t = data['_id'] \n",
    "    prices = data['price_usd']\n",
    "    sl = sorted([[k, prices[k]] for k in list(prices.keys())], key=lambda x: x[1], reverse=True)\n",
    "    for index, item in enumerate(sl):\n",
    "        stat_db['history_currency_rank'].find_one_and_update(\n",
    "            {'currency_id': item[0]},\n",
    "            {'$push': {'rank': [t, index, len(sl)]}},\n",
    "            upsert=True)    "
   ]
  },
  {
   "cell_type": "code",
   "execution_count": null,
   "metadata": {},
   "outputs": [],
   "source": []
  }
 ],
 "metadata": {
  "kernelspec": {
   "display_name": "Python 2",
   "language": "python",
   "name": "python2"
  },
  "language_info": {
   "codemirror_mode": {
    "name": "ipython",
    "version": 2
   },
   "file_extension": ".py",
   "mimetype": "text/x-python",
   "name": "python",
   "nbconvert_exporter": "python",
   "pygments_lexer": "ipython2",
   "version": "2.7.6"
  }
 },
 "nbformat": 4,
 "nbformat_minor": 0
}
